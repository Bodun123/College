{
  "nbformat": 4,
  "nbformat_minor": 0,
  "metadata": {
    "colab": {
      "provenance": []
    },
    "kernelspec": {
      "name": "python3",
      "display_name": "Python 3"
    },
    "language_info": {
      "name": "python"
    }
  },
  "cells": [
    {
      "cell_type": "markdown",
      "source": [
        "Вам дана послідовність строк.\n",
        "Виведіть строки, що містять \"cat\" в якості підстроки хоча б два рази.\n",
        "\n",
        "inptString = [\n",
        "  \"catcat\",\n",
        "  \"cat and cat\",\n",
        "  \"catac\",\n",
        "  \"cat\",\n",
        "  \"ccaatt\"\n",
        "]"
      ],
      "metadata": {
        "id": "qfhNrQm2rPLR"
      }
    },
    {
      "cell_type": "code",
      "execution_count": 11,
      "metadata": {
        "id": "c92nty6GrEGQ",
        "colab": {
          "base_uri": "https://localhost:8080/"
        },
        "outputId": "f862d11a-f9bf-426b-e497-f00181d2f728"
      },
      "outputs": [
        {
          "output_type": "stream",
          "name": "stdout",
          "text": [
            "catcat\n",
            "cat and cat\n"
          ]
        }
      ],
      "source": [
        "#написати код тут\n",
        "inptString = [\"catcat\", \"cat and cat\", \"catac\", \"cat\", \"ccaatt\"]\n",
        "for a in inptString:\n",
        " if a.count('cat') >= 2:\n",
        "  print(a)\n",
        "#result\n",
        "#catcat\n",
        "#cat and cat"
      ]
    },
    {
      "cell_type": "markdown",
      "source": [
        "Вам дана послідовність строк.\n",
        "Виведіть рядки, що містять зворотний слеш \"\\\".\n",
        "\n",
        "inptString = [\n",
        "  \"\\w denotes word character\",\n",
        "  \"No slashes here\",\n",
        "  \"pus in boots \\rn\"\n",
        "]"
      ],
      "metadata": {
        "id": "dtU4uK2xr3Qn"
      }
    },
    {
      "cell_type": "code",
      "source": [
        "#написати код тут\n",
        "inptString = [ \"\\w denotes word character\", \"No slashes here\", \"pus in boots \\rn\", \"pus in boots \\ rn\", \"pus in boots \\\\rn\" ]\n",
        "for a in inptString:\n",
        " if '\\\\' in a:\n",
        "  print(a)\n",
        "#result\n",
        "#\\w denotes word character\n",
        "#pus in boots \\rn\n",
        "#Не можу зрозуміти, чому не працює пошук сплеш для \"pus in boots \\rn\", коли сплеш стоїть поруч, але, коли відокремлюємо, або додаємо ще один сплеш, то все працює \n",
        "#Додав до переліку ще 2 варіанти для показу проблеми"
      ],
      "metadata": {
        "id": "SqCTN1IMskHE",
        "colab": {
          "base_uri": "https://localhost:8080/"
        },
        "outputId": "42bcbdcc-e2c7-4eae-f9e4-e3a918ece8a7"
      },
      "execution_count": 47,
      "outputs": [
        {
          "output_type": "stream",
          "name": "stdout",
          "text": [
            "\\w denotes word character\n",
            "pus in boots \\ rn\n",
            "pus in boots \\rn\n"
          ]
        }
      ]
    },
    {
      "cell_type": "markdown",
      "source": [
        "Вам дана послідовність строк.\n",
        "У кожному рядку замініть усі входи підстроки \"human\" на підстроку \"computer\" і виведіть отримані рядки.\n",
        "\n",
        "inptString = [\n",
        "  \"I need to understand the human mind\",\n",
        "  \"humanity\"\n",
        "]"
      ],
      "metadata": {
        "id": "Lv1tB37hsjI0"
      }
    },
    {
      "cell_type": "code",
      "source": [
        "#написати код тут\n",
        "inptString = [\"I need to understand the human mind\", \"humanity\"]\n",
        "for a in inptString:\n",
        " a1 = a.replace(\"human\", \"computer\")\n",
        " print(a1)\n",
        "#result\n",
        "#I need to understand the computer mind\n",
        "#computerity"
      ],
      "metadata": {
        "id": "gFMrgGJ-snl1",
        "colab": {
          "base_uri": "https://localhost:8080/"
        },
        "outputId": "d571938b-6f66-41f1-9050-a6461ce20a47"
      },
      "execution_count": 10,
      "outputs": [
        {
          "output_type": "stream",
          "name": "stdout",
          "text": [
            "I need to understand the computer mind\n",
            "computerity\n"
          ]
        }
      ]
    },
    {
      "cell_type": "markdown",
      "source": [
        "Вам дана послідовність строк.\n",
        "У кожному рядку замініть перше вхідне слово, що складається тільки з латинської букви \"a\" (реєстр не важен), на слово \"argh\".\n",
        "\n",
        "inptString = [\n",
        "  \"There’ll be no more 'Aaaaaaaaaaaaaaa'\",\n",
        "  \"AaAaAaA AaAaAaA\"\n",
        "]"
      ],
      "metadata": {
        "id": "5hiTO-d7svZu"
      }
    },
    {
      "cell_type": "code",
      "source": [
        "#написати код тут\n",
        "import re\n",
        "inptString = [\"There’ll be no more 'Aaaaaaaaaaaaaaa'\", \"AaAaAaA AaAaAaA\"]\n",
        "for a in inptString:\n",
        " a1 = re.sub(r'\\b[aA]+\\b', 'argh', a, count = 1)\n",
        " print(a1)\n",
        "#result\n",
        "#There’ll be no more 'argh'\n",
        "#argh AaAaAaA"
      ],
      "metadata": {
        "id": "9HeK0hWStlck",
        "colab": {
          "base_uri": "https://localhost:8080/"
        },
        "outputId": "5588315d-da46-4db3-d90b-6df2f0d9f3ad"
      },
      "execution_count": 18,
      "outputs": [
        {
          "output_type": "stream",
          "name": "stdout",
          "text": [
            "There’ll be no more 'argh'\n",
            "argh AaAaAaA\n"
          ]
        }
      ]
    },
    {
      "cell_type": "markdown",
      "source": [
        "Вам дана послідовність строк.\n",
        "У кожному рядку замініть усі входження кількох одинакових букв на одну букву.\n",
        "Буквой вважається символом із групи \\w.\n",
        "\n",
        "inptString = [\n",
        "  \"attraction\",\n",
        "  \"buzzzz\"\n",
        "]"
      ],
      "metadata": {
        "id": "Wn85KpuwtqqQ"
      }
    },
    {
      "cell_type": "code",
      "source": [
        "#написати код тут\n",
        "import re\n",
        "inptString = [ \"attraction\", \"buzzzz\" ]\n",
        "for a in inptString:\n",
        " a1 = re.sub(r'(\\w)\\1+', r'\\1', a)\n",
        " print(a1)\n",
        "#result\n",
        "#atraction\n",
        "#buz"
      ],
      "metadata": {
        "id": "0IAf5UK1t4RD",
        "colab": {
          "base_uri": "https://localhost:8080/"
        },
        "outputId": "59a8b1a0-f4ad-476e-e2bb-128ccbacdd49"
      },
      "execution_count": 19,
      "outputs": [
        {
          "output_type": "stream",
          "name": "stdout",
          "text": [
            "atraction\n",
            "buz\n"
          ]
        }
      ]
    }
  ]
}